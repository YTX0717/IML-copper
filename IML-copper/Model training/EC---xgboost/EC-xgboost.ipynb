{
 "cells": [
  {
   "cell_type": "code",
   "execution_count": null,
   "metadata": {},
   "outputs": [
    {
     "name": "stderr",
     "output_type": "stream",
     "text": [
      "[I 2025-02-06 12:12:09,452] A new study created in memory with name: no-name-85109c72-262d-4017-902b-933511bf8956\n",
      "Best trial: 0. Best value: 25.8401:   2%|▏         | 1/50 [00:00<00:14,  3.40it/s]"
     ]
    },
    {
     "name": "stdout",
     "output_type": "stream",
     "text": [
      "[I 2025-02-06 12:12:09,746] Trial 0 finished with value: 25.84005332102509 and parameters: {'n_estimators': 365, 'learning_rate': 0.12596748363442536, 'max_depth': 19, 'subsample': 0.8357320146831813, 'colsample_bytree': 0.6683479310322776, 'gamma': 0.9957243960767704, 'reg_alpha': 1.9613958504758315, 'reg_lambda': 1.7894104817232102}. Best is trial 0 with value: 25.84005332102509.\n"
     ]
    },
    {
     "name": "stderr",
     "output_type": "stream",
     "text": [
      "Best trial: 1. Best value: 22.0437:   4%|▍         | 2/50 [00:00<00:17,  2.72it/s]"
     ]
    },
    {
     "name": "stdout",
     "output_type": "stream",
     "text": [
      "[I 2025-02-06 12:12:10,162] Trial 1 finished with value: 22.043667971233027 and parameters: {'n_estimators': 587, 'learning_rate': 0.0921713404697894, 'max_depth': 17, 'subsample': 0.6769542776222949, 'colsample_bytree': 0.8177429548714837, 'gamma': 0.6560651193362104, 'reg_alpha': 0.5308493636045872, 'reg_lambda': 1.0082963773616334}. Best is trial 1 with value: 22.043667971233027.\n"
     ]
    },
    {
     "name": "stderr",
     "output_type": "stream",
     "text": [
      "Best trial: 1. Best value: 22.0437:   6%|▌         | 3/50 [00:01<00:20,  2.25it/s]"
     ]
    },
    {
     "name": "stdout",
     "output_type": "stream",
     "text": [
      "[I 2025-02-06 12:12:10,700] Trial 2 finished with value: 22.539652199070694 and parameters: {'n_estimators': 309, 'learning_rate': 0.021248928329709184, 'max_depth': 18, 'subsample': 0.736968409450929, 'colsample_bytree': 0.8221915918666396, 'gamma': 0.16854437007914644, 'reg_alpha': 0.5425714588717254, 'reg_lambda': 1.3461310133575513}. Best is trial 1 with value: 22.043667971233027.\n"
     ]
    },
    {
     "name": "stderr",
     "output_type": "stream",
     "text": [
      "Best trial: 1. Best value: 22.0437:   8%|▊         | 4/50 [00:01<00:18,  2.50it/s]"
     ]
    },
    {
     "name": "stdout",
     "output_type": "stream",
     "text": [
      "[I 2025-02-06 12:12:11,029] Trial 3 finished with value: 25.111858354475846 and parameters: {'n_estimators': 498, 'learning_rate': 0.13003258935478976, 'max_depth': 15, 'subsample': 0.750258079921639, 'colsample_bytree': 0.7685091654887876, 'gamma': 0.5820244650381521, 'reg_alpha': 1.1313901238762847, 'reg_lambda': 1.285509497497487}. Best is trial 1 with value: 22.043667971233027.\n"
     ]
    },
    {
     "name": "stderr",
     "output_type": "stream",
     "text": [
      "Best trial: 1. Best value: 22.0437:  10%|█         | 5/50 [00:02<00:19,  2.33it/s]"
     ]
    },
    {
     "name": "stdout",
     "output_type": "stream",
     "text": [
      "[I 2025-02-06 12:12:11,510] Trial 4 finished with value: 22.771518368995515 and parameters: {'n_estimators': 569, 'learning_rate': 0.06572195436985584, 'max_depth': 19, 'subsample': 0.7035725558578384, 'colsample_bytree': 0.8797310138152412, 'gamma': 0.31529786600342213, 'reg_alpha': 1.1552837450971902, 'reg_lambda': 2.0440706911476916}. Best is trial 1 with value: 22.043667971233027.\n"
     ]
    },
    {
     "name": "stderr",
     "output_type": "stream",
     "text": [
      "Best trial: 1. Best value: 22.0437:  12%|█▏        | 6/50 [00:02<00:19,  2.28it/s]"
     ]
    },
    {
     "name": "stdout",
     "output_type": "stream",
     "text": [
      "[I 2025-02-06 12:12:11,970] Trial 5 finished with value: 38.566330287392816 and parameters: {'n_estimators': 363, 'learning_rate': 0.007046110584198312, 'max_depth': 12, 'subsample': 0.8108278942457281, 'colsample_bytree': 0.7883965912089098, 'gamma': 0.9417934771999317, 'reg_alpha': 1.2993263611603503, 'reg_lambda': 1.4370758586059424}. Best is trial 1 with value: 22.043667971233027.\n"
     ]
    },
    {
     "name": "stderr",
     "output_type": "stream",
     "text": [
      "Best trial: 1. Best value: 22.0437:  14%|█▍        | 7/50 [00:03<00:19,  2.16it/s]"
     ]
    },
    {
     "name": "stdout",
     "output_type": "stream",
     "text": [
      "[I 2025-02-06 12:12:12,481] Trial 6 finished with value: 23.27974105504256 and parameters: {'n_estimators': 457, 'learning_rate': 0.020321421145690344, 'max_depth': 16, 'subsample': 0.7406241895683511, 'colsample_bytree': 0.7863527935936916, 'gamma': 0.8929840866673063, 'reg_alpha': 1.3299069290167609, 'reg_lambda': 1.286870715064048}. Best is trial 1 with value: 22.043667971233027.\n"
     ]
    },
    {
     "name": "stderr",
     "output_type": "stream",
     "text": [
      "Best trial: 1. Best value: 22.0437:  16%|█▌        | 8/50 [00:03<00:19,  2.12it/s]"
     ]
    },
    {
     "name": "stdout",
     "output_type": "stream",
     "text": [
      "[I 2025-02-06 12:12:12,974] Trial 7 finished with value: 24.66987434347301 and parameters: {'n_estimators': 388, 'learning_rate': 0.02174172641407241, 'max_depth': 14, 'subsample': 0.7113464965546925, 'colsample_bytree': 0.6493607377072833, 'gamma': 0.6661190415506227, 'reg_alpha': 1.9342751372262792, 'reg_lambda': 2.8126696883742235}. Best is trial 1 with value: 22.043667971233027.\n"
     ]
    },
    {
     "name": "stderr",
     "output_type": "stream",
     "text": [
      "Best trial: 1. Best value: 22.0437:  18%|█▊        | 9/50 [00:04<00:21,  1.95it/s]"
     ]
    },
    {
     "name": "stdout",
     "output_type": "stream",
     "text": [
      "[I 2025-02-06 12:12:13,575] Trial 8 finished with value: 22.730118241619202 and parameters: {'n_estimators': 588, 'learning_rate': 0.03316480356120622, 'max_depth': 15, 'subsample': 0.7418536630967179, 'colsample_bytree': 0.7681478670868445, 'gamma': 0.40614268196598136, 'reg_alpha': 1.2838987950748368, 'reg_lambda': 2.047409872988058}. Best is trial 1 with value: 22.043667971233027.\n"
     ]
    },
    {
     "name": "stderr",
     "output_type": "stream",
     "text": [
      "Best trial: 1. Best value: 22.0437:  20%|██        | 10/50 [00:04<00:17,  2.27it/s]"
     ]
    },
    {
     "name": "stdout",
     "output_type": "stream",
     "text": [
      "[I 2025-02-06 12:12:13,858] Trial 9 finished with value: 23.43926307296678 and parameters: {'n_estimators': 400, 'learning_rate': 0.07752386087338353, 'max_depth': 12, 'subsample': 0.8512629887271901, 'colsample_bytree': 0.7585945325024593, 'gamma': 0.8639745112032318, 'reg_alpha': 0.5837145641149415, 'reg_lambda': 1.7302914142268582}. Best is trial 1 with value: 22.043667971233027.\n"
     ]
    },
    {
     "name": "stderr",
     "output_type": "stream",
     "text": [
      "Best trial: 10. Best value: 21.3388:  22%|██▏       | 11/50 [00:04<00:16,  2.31it/s]"
     ]
    },
    {
     "name": "stdout",
     "output_type": "stream",
     "text": [
      "[I 2025-02-06 12:12:14,275] Trial 10 finished with value: 21.338839854786716 and parameters: {'n_estimators': 529, 'learning_rate': 0.04993602679968151, 'max_depth': 10, 'subsample': 0.603072444095528, 'colsample_bytree': 0.8812217815351973, 'gamma': 0.7084768849163708, 'reg_alpha': 0.8609540719416302, 'reg_lambda': 1.0120415873656379}. Best is trial 10 with value: 21.338839854786716.\n"
     ]
    },
    {
     "name": "stderr",
     "output_type": "stream",
     "text": [
      "Best trial: 11. Best value: 20.9028:  24%|██▍       | 12/50 [00:05<00:16,  2.25it/s]"
     ]
    },
    {
     "name": "stdout",
     "output_type": "stream",
     "text": [
      "[I 2025-02-06 12:12:14,743] Trial 11 finished with value: 20.902768476729623 and parameters: {'n_estimators': 531, 'learning_rate': 0.04813060597154675, 'max_depth': 10, 'subsample': 0.6142818064523308, 'colsample_bytree': 0.8940449101450938, 'gamma': 0.7359573060645213, 'reg_alpha': 0.8370159198745208, 'reg_lambda': 1.040462368729943}. Best is trial 11 with value: 20.902768476729623.\n"
     ]
    },
    {
     "name": "stderr",
     "output_type": "stream",
     "text": [
      "Best trial: 11. Best value: 20.9028:  26%|██▌       | 13/50 [00:05<00:16,  2.28it/s]"
     ]
    },
    {
     "name": "stdout",
     "output_type": "stream",
     "text": [
      "[I 2025-02-06 12:12:15,166] Trial 12 finished with value: 21.328552072192664 and parameters: {'n_estimators': 512, 'learning_rate': 0.046085404258840404, 'max_depth': 10, 'subsample': 0.6059569701579802, 'colsample_bytree': 0.8940832777632337, 'gamma': 0.7819834129217591, 'reg_alpha': 0.8532376812593235, 'reg_lambda': 1.0161247711406602}. Best is trial 11 with value: 20.902768476729623.\n"
     ]
    },
    {
     "name": "stderr",
     "output_type": "stream",
     "text": [
      "Best trial: 11. Best value: 20.9028:  28%|██▊       | 14/50 [00:06<00:17,  2.06it/s]"
     ]
    },
    {
     "name": "stdout",
     "output_type": "stream",
     "text": [
      "[I 2025-02-06 12:12:15,763] Trial 13 finished with value: 28.39356713312918 and parameters: {'n_estimators': 510, 'learning_rate': 0.00969028167506727, 'max_depth': 10, 'subsample': 0.6015335924793871, 'colsample_bytree': 0.8977646713765973, 'gamma': 0.7655814351855764, 'reg_alpha': 0.8555399323314509, 'reg_lambda': 2.4232448197990317}. Best is trial 11 with value: 20.902768476729623.\n"
     ]
    },
    {
     "name": "stderr",
     "output_type": "stream",
     "text": [
      "Best trial: 11. Best value: 20.9028:  30%|███       | 15/50 [00:06<00:16,  2.10it/s]"
     ]
    },
    {
     "name": "stdout",
     "output_type": "stream",
     "text": [
      "[I 2025-02-06 12:12:16,219] Trial 14 finished with value: 23.358611818945878 and parameters: {'n_estimators': 447, 'learning_rate': 0.04043936987612013, 'max_depth': 12, 'subsample': 0.6502847750396517, 'colsample_bytree': 0.6884530511561595, 'gamma': 0.4905568230673223, 'reg_alpha': 0.8553484390602042, 'reg_lambda': 1.62337940369393}. Best is trial 11 with value: 20.902768476729623.\n"
     ]
    },
    {
     "name": "stderr",
     "output_type": "stream",
     "text": [
      "Best trial: 11. Best value: 20.9028:  32%|███▏      | 16/50 [00:07<00:17,  1.93it/s]"
     ]
    },
    {
     "name": "stdout",
     "output_type": "stream",
     "text": [
      "[I 2025-02-06 12:12:16,831] Trial 15 finished with value: 23.71068141646235 and parameters: {'n_estimators': 545, 'learning_rate': 0.012923949942817018, 'max_depth': 10, 'subsample': 0.6519212949386126, 'colsample_bytree': 0.6021199183612616, 'gamma': 0.798529972307686, 'reg_alpha': 1.6039898786147406, 'reg_lambda': 1.02151506133336}. Best is trial 11 with value: 20.902768476729623.\n"
     ]
    },
    {
     "name": "stderr",
     "output_type": "stream",
     "text": [
      "Best trial: 11. Best value: 20.9028:  34%|███▍      | 17/50 [00:07<00:15,  2.19it/s]"
     ]
    },
    {
     "name": "stdout",
     "output_type": "stream",
     "text": [
      "[I 2025-02-06 12:12:17,149] Trial 16 finished with value: 21.074044021935403 and parameters: {'n_estimators': 481, 'learning_rate': 0.1981274386618336, 'max_depth': 13, 'subsample': 0.6277554282487944, 'colsample_bytree': 0.8482585961172531, 'gamma': 0.559039715294909, 'reg_alpha': 0.9762734499566698, 'reg_lambda': 2.4685620402267867}. Best is trial 11 with value: 20.902768476729623.\n"
     ]
    },
    {
     "name": "stderr",
     "output_type": "stream",
     "text": [
      "Best trial: 17. Best value: 20.2497:  36%|███▌      | 18/50 [00:07<00:12,  2.49it/s]"
     ]
    },
    {
     "name": "stdout",
     "output_type": "stream",
     "text": [
      "[I 2025-02-06 12:12:17,421] Trial 17 finished with value: 20.249705902610977 and parameters: {'n_estimators': 461, 'learning_rate': 0.1959500932708426, 'max_depth': 13, 'subsample': 0.8995661431871018, 'colsample_bytree': 0.8481996854168994, 'gamma': 0.47937184185194254, 'reg_alpha': 1.098408512993543, 'reg_lambda': 2.400416394570079}. Best is trial 17 with value: 20.249705902610977.\n"
     ]
    },
    {
     "name": "stderr",
     "output_type": "stream",
     "text": [
      "Best trial: 17. Best value: 20.2497:  38%|███▊      | 19/50 [00:08<00:11,  2.74it/s]"
     ]
    },
    {
     "name": "stdout",
     "output_type": "stream",
     "text": [
      "[I 2025-02-06 12:12:17,699] Trial 18 finished with value: 23.417971668417056 and parameters: {'n_estimators': 431, 'learning_rate': 0.1868967497872306, 'max_depth': 11, 'subsample': 0.8939168100180743, 'colsample_bytree': 0.8495957650261897, 'gamma': 0.3631527831223129, 'reg_alpha': 1.4185851761776571, 'reg_lambda': 2.446799067488479}. Best is trial 17 with value: 20.249705902610977.\n"
     ]
    },
    {
     "name": "stderr",
     "output_type": "stream",
     "text": [
      "Best trial: 17. Best value: 20.2497:  40%|████      | 20/50 [00:08<00:10,  2.75it/s]"
     ]
    },
    {
     "name": "stdout",
     "output_type": "stream",
     "text": [
      "[I 2025-02-06 12:12:18,060] Trial 19 finished with value: 23.174648831204934 and parameters: {'n_estimators': 474, 'learning_rate': 0.11744050096440971, 'max_depth': 13, 'subsample': 0.8027288480515193, 'colsample_bytree': 0.8521661325512732, 'gamma': 0.20579623445906153, 'reg_alpha': 1.5525737904610606, 'reg_lambda': 2.994039420603762}. Best is trial 17 with value: 20.249705902610977.\n"
     ]
    },
    {
     "name": "stderr",
     "output_type": "stream",
     "text": [
      "Best trial: 17. Best value: 20.2497:  42%|████▏     | 21/50 [00:09<00:13,  2.13it/s]"
     ]
    },
    {
     "name": "stdout",
     "output_type": "stream",
     "text": [
      "[I 2025-02-06 12:12:18,774] Trial 20 finished with value: 32.33959797718236 and parameters: {'n_estimators': 551, 'learning_rate': 0.005963315156051038, 'max_depth': 14, 'subsample': 0.8975159298489452, 'colsample_bytree': 0.7158473531657821, 'gamma': 0.4631043257357949, 'reg_alpha': 0.7398991023297661, 'reg_lambda': 2.199819327020343}. Best is trial 17 with value: 20.249705902610977.\n"
     ]
    },
    {
     "name": "stderr",
     "output_type": "stream",
     "text": [
      "Best trial: 17. Best value: 20.2497:  44%|████▍     | 22/50 [00:09<00:11,  2.38it/s]"
     ]
    },
    {
     "name": "stdout",
     "output_type": "stream",
     "text": [
      "[I 2025-02-06 12:12:19,079] Trial 21 finished with value: 22.848458232720326 and parameters: {'n_estimators': 486, 'learning_rate': 0.18724095878972638, 'max_depth': 13, 'subsample': 0.639503272291745, 'colsample_bytree': 0.8472277155384057, 'gamma': 0.5675015502421903, 'reg_alpha': 1.0471260759571988, 'reg_lambda': 2.5486251951830106}. Best is trial 17 with value: 20.249705902610977.\n"
     ]
    },
    {
     "name": "stderr",
     "output_type": "stream",
     "text": [
      "Best trial: 17. Best value: 20.2497:  46%|████▌     | 23/50 [00:09<00:10,  2.64it/s]"
     ]
    },
    {
     "name": "stdout",
     "output_type": "stream",
     "text": [
      "[I 2025-02-06 12:12:19,360] Trial 22 finished with value: 22.842056169175777 and parameters: {'n_estimators': 430, 'learning_rate': 0.18884044132597824, 'max_depth': 13, 'subsample': 0.6850682700407821, 'colsample_bytree': 0.8243597323086405, 'gamma': 0.6097212171920583, 'reg_alpha': 1.0465684421417505, 'reg_lambda': 2.673048721267259}. Best is trial 17 with value: 20.249705902610977.\n"
     ]
    },
    {
     "name": "stderr",
     "output_type": "stream",
     "text": [
      "Best trial: 17. Best value: 20.2497:  48%|████▊     | 24/50 [00:10<00:09,  2.64it/s]"
     ]
    },
    {
     "name": "stdout",
     "output_type": "stream",
     "text": [
      "[I 2025-02-06 12:12:19,741] Trial 23 finished with value: 21.36698759024423 and parameters: {'n_estimators': 470, 'learning_rate': 0.09959054225503357, 'max_depth': 11, 'subsample': 0.6261062481108752, 'colsample_bytree': 0.8692342442876371, 'gamma': 0.49883619391560574, 'reg_alpha': 1.0128433006093904, 'reg_lambda': 2.314096013734679}. Best is trial 17 with value: 20.249705902610977.\n"
     ]
    },
    {
     "name": "stderr",
     "output_type": "stream",
     "text": [
      "Best trial: 17. Best value: 20.2497:  50%|█████     | 25/50 [00:10<00:09,  2.57it/s]"
     ]
    },
    {
     "name": "stdout",
     "output_type": "stream",
     "text": [
      "[I 2025-02-06 12:12:20,156] Trial 24 finished with value: 23.615788297693094 and parameters: {'n_estimators': 520, 'learning_rate': 0.06820628304957746, 'max_depth': 14, 'subsample': 0.7803060229092884, 'colsample_bytree': 0.7214641792897518, 'gamma': 0.26636439465698447, 'reg_alpha': 0.709396188069735, 'reg_lambda': 2.2251752192665144}. Best is trial 17 with value: 20.249705902610977.\n"
     ]
    },
    {
     "name": "stderr",
     "output_type": "stream",
     "text": [
      "Best trial: 17. Best value: 20.2497:  52%|█████▏    | 26/50 [00:10<00:08,  2.80it/s]"
     ]
    },
    {
     "name": "stdout",
     "output_type": "stream",
     "text": [
      "[I 2025-02-06 12:12:20,437] Trial 25 finished with value: 22.858779674071148 and parameters: {'n_estimators': 418, 'learning_rate': 0.14818078562288287, 'max_depth': 11, 'subsample': 0.8688259615281541, 'colsample_bytree': 0.8096736246520698, 'gamma': 0.43970578877228583, 'reg_alpha': 0.9743078968163827, 'reg_lambda': 2.7090773142210676}. Best is trial 17 with value: 20.249705902610977.\n"
     ]
    },
    {
     "name": "stderr",
     "output_type": "stream",
     "text": [
      "Best trial: 17. Best value: 20.2497:  54%|█████▍    | 27/50 [00:11<00:08,  2.72it/s]"
     ]
    },
    {
     "name": "stdout",
     "output_type": "stream",
     "text": [
      "[I 2025-02-06 12:12:20,830] Trial 26 finished with value: 22.885078727734594 and parameters: {'n_estimators': 485, 'learning_rate': 0.05914139901115246, 'max_depth': 16, 'subsample': 0.6675706910681304, 'colsample_bytree': 0.86016545351607, 'gamma': 0.7174132745848467, 'reg_alpha': 0.6969699722572293, 'reg_lambda': 1.9584431386250358}. Best is trial 17 with value: 20.249705902610977.\n"
     ]
    },
    {
     "name": "stderr",
     "output_type": "stream",
     "text": [
      "Best trial: 17. Best value: 20.2497:  56%|█████▌    | 28/50 [00:12<00:09,  2.24it/s]"
     ]
    },
    {
     "name": "stdout",
     "output_type": "stream",
     "text": [
      "[I 2025-02-06 12:12:21,458] Trial 27 finished with value: 24.067505384143143 and parameters: {'n_estimators': 542, 'learning_rate': 0.02869099647360015, 'max_depth': 12, 'subsample': 0.6235242054599736, 'colsample_bytree': 0.8355323948370356, 'gamma': 0.5024505026934137, 'reg_alpha': 1.191269903303063, 'reg_lambda': 2.5450967383239287}. Best is trial 17 with value: 20.249705902610977.\n"
     ]
    },
    {
     "name": "stderr",
     "output_type": "stream",
     "text": [
      "Best trial: 28. Best value: 20.0796:  58%|█████▊    | 29/50 [00:12<00:08,  2.48it/s]"
     ]
    },
    {
     "name": "stdout",
     "output_type": "stream",
     "text": [
      "[I 2025-02-06 12:12:21,760] Trial 28 finished with value: 20.079631387453325 and parameters: {'n_estimators': 455, 'learning_rate': 0.15280756009253063, 'max_depth': 20, 'subsample': 0.7705377648318159, 'colsample_bytree': 0.8027767907583065, 'gamma': 0.6372125460364897, 'reg_alpha': 0.9300515692135559, 'reg_lambda': 2.236055850934471}. Best is trial 28 with value: 20.079631387453325.\n"
     ]
    },
    {
     "name": "stderr",
     "output_type": "stream",
     "text": [
      "Best trial: 28. Best value: 20.0796:  60%|██████    | 30/50 [00:12<00:07,  2.79it/s]"
     ]
    },
    {
     "name": "stdout",
     "output_type": "stream",
     "text": [
      "[I 2025-02-06 12:12:22,016] Trial 29 finished with value: 27.275243541282002 and parameters: {'n_estimators': 350, 'learning_rate': 0.14864463701252303, 'max_depth': 20, 'subsample': 0.7733149546652488, 'colsample_bytree': 0.7967359946131439, 'gamma': 0.635624351770289, 'reg_alpha': 1.42051006717272, 'reg_lambda': 1.9019974472191137}. Best is trial 28 with value: 20.079631387453325.\n"
     ]
    },
    {
     "name": "stderr",
     "output_type": "stream",
     "text": [
      "Best trial: 28. Best value: 20.0796:  62%|██████▏   | 31/50 [00:12<00:06,  2.93it/s]"
     ]
    },
    {
     "name": "stdout",
     "output_type": "stream",
     "text": [
      "[I 2025-02-06 12:12:22,316] Trial 30 finished with value: 25.494642079151056 and parameters: {'n_estimators': 451, 'learning_rate': 0.10396987516894064, 'max_depth': 20, 'subsample': 0.8268825372511667, 'colsample_bytree': 0.738792754581241, 'gamma': 0.99039213714846, 'reg_alpha': 0.7833590767363807, 'reg_lambda': 2.194686591526525}. Best is trial 28 with value: 20.079631387453325.\n"
     ]
    },
    {
     "name": "stderr",
     "output_type": "stream",
     "text": [
      "Best trial: 28. Best value: 20.0796:  64%|██████▍   | 32/50 [00:13<00:06,  3.00it/s]"
     ]
    },
    {
     "name": "stdout",
     "output_type": "stream",
     "text": [
      "[I 2025-02-06 12:12:22,632] Trial 31 finished with value: 21.821507808619966 and parameters: {'n_estimators': 493, 'learning_rate': 0.15553039752610232, 'max_depth': 16, 'subsample': 0.7063544773044204, 'colsample_bytree': 0.8379089207686773, 'gamma': 0.5352443767680712, 'reg_alpha': 0.9624635039606372, 'reg_lambda': 2.3595103111400304}. Best is trial 28 with value: 20.079631387453325.\n"
     ]
    },
    {
     "name": "stderr",
     "output_type": "stream",
     "text": [
      "Best trial: 28. Best value: 20.0796:  66%|██████▌   | 33/50 [00:13<00:05,  2.86it/s]"
     ]
    },
    {
     "name": "stdout",
     "output_type": "stream",
     "text": [
      "[I 2025-02-06 12:12:23,016] Trial 32 finished with value: 21.615308820438628 and parameters: {'n_estimators': 469, 'learning_rate': 0.09152560047285545, 'max_depth': 18, 'subsample': 0.6658730366313411, 'colsample_bytree': 0.8718873230159002, 'gamma': 0.6868872422966942, 'reg_alpha': 0.9237992692215603, 'reg_lambda': 2.5561882338869477}. Best is trial 28 with value: 20.079631387453325.\n"
     ]
    },
    {
     "name": "stderr",
     "output_type": "stream",
     "text": [
      "Best trial: 28. Best value: 20.0796:  68%|██████▊   | 34/50 [00:13<00:05,  3.04it/s]"
     ]
    },
    {
     "name": "stdout",
     "output_type": "stream",
     "text": [
      "[I 2025-02-06 12:12:23,299] Trial 33 finished with value: 22.003831688191173 and parameters: {'n_estimators': 436, 'learning_rate': 0.12697675879944728, 'max_depth': 17, 'subsample': 0.8704320310784743, 'colsample_bytree': 0.8047507241835442, 'gamma': 0.6208824859898168, 'reg_alpha': 0.6463093565988629, 'reg_lambda': 2.1034964696272693}. Best is trial 28 with value: 20.079631387453325.\n"
     ]
    },
    {
     "name": "stderr",
     "output_type": "stream",
     "text": [
      "Best trial: 34. Best value: 20.0392:  70%|███████   | 35/50 [00:14<00:04,  3.22it/s]"
     ]
    },
    {
     "name": "stdout",
     "output_type": "stream",
     "text": [
      "[I 2025-02-06 12:12:23,566] Trial 34 finished with value: 20.03919220606075 and parameters: {'n_estimators': 410, 'learning_rate': 0.19946189075159404, 'max_depth': 13, 'subsample': 0.7634038268956059, 'colsample_bytree': 0.825223064897514, 'gamma': 0.5572057251204847, 'reg_alpha': 1.1107973827633244, 'reg_lambda': 2.3100634603532533}. Best is trial 34 with value: 20.03919220606075.\n"
     ]
    },
    {
     "name": "stderr",
     "output_type": "stream",
     "text": [
      "Best trial: 34. Best value: 20.0392:  72%|███████▏  | 36/50 [00:14<00:04,  3.00it/s]"
     ]
    },
    {
     "name": "stdout",
     "output_type": "stream",
     "text": [
      "[I 2025-02-06 12:12:23,957] Trial 35 finished with value: 20.38229991086618 and parameters: {'n_estimators': 404, 'learning_rate': 0.08350676316740968, 'max_depth': 15, 'subsample': 0.7661687485060847, 'colsample_bytree': 0.8202929229021458, 'gamma': 0.10863245804501848, 'reg_alpha': 1.0910501445209055, 'reg_lambda': 1.8555714245218338}. Best is trial 34 with value: 20.03919220606075.\n"
     ]
    },
    {
     "name": "stderr",
     "output_type": "stream",
     "text": [
      "Best trial: 34. Best value: 20.0392:  74%|███████▍  | 37/50 [00:14<00:04,  2.82it/s]"
     ]
    },
    {
     "name": "stdout",
     "output_type": "stream",
     "text": [
      "[I 2025-02-06 12:12:24,358] Trial 36 finished with value: 21.134370542174366 and parameters: {'n_estimators': 330, 'learning_rate': 0.08169536283201093, 'max_depth': 17, 'subsample': 0.7626376408157609, 'colsample_bytree': 0.8225827706498577, 'gamma': 0.1147211187161988, 'reg_alpha': 1.1305712580185356, 'reg_lambda': 1.8482807277495223}. Best is trial 34 with value: 20.03919220606075.\n"
     ]
    },
    {
     "name": "stderr",
     "output_type": "stream",
     "text": [
      "Best trial: 34. Best value: 20.0392:  76%|███████▌  | 38/50 [00:15<00:03,  3.02it/s]"
     ]
    },
    {
     "name": "stdout",
     "output_type": "stream",
     "text": [
      "[I 2025-02-06 12:12:24,635] Trial 37 finished with value: 26.625710559819982 and parameters: {'n_estimators': 394, 'learning_rate': 0.14949688170160658, 'max_depth': 15, 'subsample': 0.7981095848283335, 'colsample_bytree': 0.7831993996457287, 'gamma': 0.3017445391958543, 'reg_alpha': 1.2182029939813517, 'reg_lambda': 1.6987650282373565}. Best is trial 34 with value: 20.03919220606075.\n"
     ]
    },
    {
     "name": "stderr",
     "output_type": "stream",
     "text": [
      "Best trial: 34. Best value: 20.0392:  78%|███████▊  | 39/50 [00:15<00:03,  3.10it/s]"
     ]
    },
    {
     "name": "stdout",
     "output_type": "stream",
     "text": [
      "[I 2025-02-06 12:12:24,940] Trial 38 finished with value: 23.99000964754618 and parameters: {'n_estimators': 417, 'learning_rate': 0.11710710304697909, 'max_depth': 14, 'subsample': 0.7312010276594222, 'colsample_bytree': 0.7759116533097073, 'gamma': 0.39384656806117513, 'reg_alpha': 1.1017093362160146, 'reg_lambda': 1.5575899401578812}. Best is trial 34 with value: 20.03919220606075.\n"
     ]
    },
    {
     "name": "stderr",
     "output_type": "stream",
     "text": [
      "Best trial: 34. Best value: 20.0392:  80%|████████  | 40/50 [00:15<00:03,  3.18it/s]"
     ]
    },
    {
     "name": "stdout",
     "output_type": "stream",
     "text": [
      "[I 2025-02-06 12:12:25,230] Trial 39 finished with value: 23.03283451826775 and parameters: {'n_estimators': 378, 'learning_rate': 0.16241695923810695, 'max_depth': 18, 'subsample': 0.722633104564425, 'colsample_bytree': 0.8226772863529144, 'gamma': 0.1673939510477896, 'reg_alpha': 1.3992929025076264, 'reg_lambda': 2.106228902345665}. Best is trial 34 with value: 20.03919220606075.\n"
     ]
    },
    {
     "name": "stderr",
     "output_type": "stream",
     "text": [
      "Best trial: 34. Best value: 20.0392:  82%|████████▏ | 41/50 [00:16<00:02,  3.29it/s]"
     ]
    },
    {
     "name": "stdout",
     "output_type": "stream",
     "text": [
      "[I 2025-02-06 12:12:25,513] Trial 40 finished with value: 26.30486255889374 and parameters: {'n_estimators': 408, 'learning_rate': 0.1284442147863858, 'max_depth': 15, 'subsample': 0.7571901150816216, 'colsample_bytree': 0.798500503516148, 'gamma': 0.8289225554946789, 'reg_alpha': 1.2462301977129304, 'reg_lambda': 2.2746727338034023}. Best is trial 34 with value: 20.03919220606075.\n"
     ]
    },
    {
     "name": "stderr",
     "output_type": "stream",
     "text": [
      "Best trial: 34. Best value: 20.0392:  84%|████████▍ | 42/50 [00:16<00:02,  3.13it/s]"
     ]
    },
    {
     "name": "stdout",
     "output_type": "stream",
     "text": [
      "[I 2025-02-06 12:12:25,868] Trial 41 finished with value: 22.16317593117748 and parameters: {'n_estimators': 376, 'learning_rate': 0.0619194363072794, 'max_depth': 16, 'subsample': 0.8213671654348345, 'colsample_bytree': 0.8837920469061414, 'gamma': 0.6551120236528925, 'reg_alpha': 1.1078257722241898, 'reg_lambda': 1.4221678637782724}. Best is trial 34 with value: 20.03919220606075.\n"
     ]
    },
    {
     "name": "stderr",
     "output_type": "stream",
     "text": [
      "Best trial: 34. Best value: 20.0392:  86%|████████▌ | 43/50 [00:16<00:02,  2.86it/s]"
     ]
    },
    {
     "name": "stdout",
     "output_type": "stream",
     "text": [
      "[I 2025-02-06 12:12:26,291] Trial 42 finished with value: 21.63780057552239 and parameters: {'n_estimators': 569, 'learning_rate': 0.0797535482804451, 'max_depth': 11, 'subsample': 0.7834467290066057, 'colsample_bytree': 0.8340095900422488, 'gamma': 0.7372044823862806, 'reg_alpha': 0.9172718027072139, 'reg_lambda': 2.1454624515067966}. Best is trial 34 with value: 20.03919220606075.\n"
     ]
    },
    {
     "name": "stderr",
     "output_type": "stream",
     "text": [
      "Best trial: 34. Best value: 20.0392:  88%|████████▊ | 44/50 [00:17<00:01,  3.03it/s]"
     ]
    },
    {
     "name": "stdout",
     "output_type": "stream",
     "text": [
      "[I 2025-02-06 12:12:26,572] Trial 43 finished with value: 21.80702778160938 and parameters: {'n_estimators': 355, 'learning_rate': 0.10637159099569869, 'max_depth': 19, 'subsample': 0.6920337875901122, 'colsample_bytree': 0.8644662821926807, 'gamma': 0.5890251607030694, 'reg_alpha': 1.0637818068408305, 'reg_lambda': 1.265198661470729}. Best is trial 34 with value: 20.03919220606075.\n"
     ]
    },
    {
     "name": "stderr",
     "output_type": "stream",
     "text": [
      "Best trial: 34. Best value: 20.0392:  90%|█████████ | 45/50 [00:17<00:01,  2.87it/s]"
     ]
    },
    {
     "name": "stdout",
     "output_type": "stream",
     "text": [
      "[I 2025-02-06 12:12:26,963] Trial 44 finished with value: 23.266704938684352 and parameters: {'n_estimators': 457, 'learning_rate': 0.04036273996358236, 'max_depth': 14, 'subsample': 0.8448174495774987, 'colsample_bytree': 0.7448816831817033, 'gamma': 0.8826795733444259, 'reg_alpha': 0.7888660189651114, 'reg_lambda': 2.0008777188287774}. Best is trial 34 with value: 20.03919220606075.\n"
     ]
    },
    {
     "name": "stderr",
     "output_type": "stream",
     "text": [
      "Best trial: 34. Best value: 20.0392:  92%|█████████▏| 46/50 [00:17<00:01,  2.85it/s]"
     ]
    },
    {
     "name": "stdout",
     "output_type": "stream",
     "text": [
      "[I 2025-02-06 12:12:27,320] Trial 45 finished with value: 22.74054599723159 and parameters: {'n_estimators': 408, 'learning_rate': 0.052616799395661024, 'max_depth': 15, 'subsample': 0.7897800421791773, 'colsample_bytree': 0.8121047718428608, 'gamma': 0.5353414800500225, 'reg_alpha': 1.350826640754636, 'reg_lambda': 1.1933671370004408}. Best is trial 34 with value: 20.03919220606075.\n"
     ]
    },
    {
     "name": "stderr",
     "output_type": "stream",
     "text": [
      "Best trial: 34. Best value: 20.0392:  94%|█████████▍| 47/50 [00:18<00:01,  2.56it/s]"
     ]
    },
    {
     "name": "stdout",
     "output_type": "stream",
     "text": [
      "[I 2025-02-06 12:12:27,801] Trial 46 finished with value: 23.25459366411768 and parameters: {'n_estimators': 440, 'learning_rate': 0.02815186384935087, 'max_depth': 12, 'subsample': 0.7677401299700584, 'colsample_bytree': 0.8841303115628509, 'gamma': 0.7546847840928181, 'reg_alpha': 0.5026779009000267, 'reg_lambda': 2.371173502318116}. Best is trial 34 with value: 20.03919220606075.\n"
     ]
    },
    {
     "name": "stderr",
     "output_type": "stream",
     "text": [
      "Best trial: 34. Best value: 20.0392:  96%|█████████▌| 48/50 [00:18<00:00,  2.58it/s]"
     ]
    },
    {
     "name": "stdout",
     "output_type": "stream",
     "text": [
      "[I 2025-02-06 12:12:28,187] Trial 47 finished with value: 22.462099605831447 and parameters: {'n_estimators': 502, 'learning_rate': 0.08931600813312546, 'max_depth': 17, 'subsample': 0.7218656704825043, 'colsample_bytree': 0.894774491064008, 'gamma': 0.6783367532666124, 'reg_alpha': 1.1731169118296172, 'reg_lambda': 1.815532025629313}. Best is trial 34 with value: 20.03919220606075.\n"
     ]
    },
    {
     "name": "stderr",
     "output_type": "stream",
     "text": [
      "Best trial: 34. Best value: 20.0392:  98%|█████████▊| 49/50 [00:19<00:00,  2.81it/s]"
     ]
    },
    {
     "name": "stdout",
     "output_type": "stream",
     "text": [
      "[I 2025-02-06 12:12:28,466] Trial 48 finished with value: 25.78848270493752 and parameters: {'n_estimators': 420, 'learning_rate': 0.17249778554581857, 'max_depth': 18, 'subsample': 0.7480458949641643, 'colsample_bytree': 0.7907712276351577, 'gamma': 0.8125619020407719, 'reg_alpha': 0.9074149775602364, 'reg_lambda': 1.5303281725321516}. Best is trial 34 with value: 20.03919220606075.\n"
     ]
    },
    {
     "name": "stderr",
     "output_type": "stream",
     "text": [
      "Best trial: 34. Best value: 20.0392: 100%|██████████| 50/50 [00:19<00:00,  2.59it/s]"
     ]
    },
    {
     "name": "stdout",
     "output_type": "stream",
     "text": [
      "[I 2025-02-06 12:12:28,791] Trial 49 finished with value: 21.161159075047866 and parameters: {'n_estimators': 384, 'learning_rate': 0.07017970802323352, 'max_depth': 12, 'subsample': 0.8167060460888274, 'colsample_bytree': 0.8594710325735703, 'gamma': 0.34970175634902123, 'reg_alpha': 0.6108195033082643, 'reg_lambda': 1.1297361828501264}. Best is trial 34 with value: 20.03919220606075.\n",
      "训练集评价指标:\n",
      "MSE: 0.4160\n",
      "RMSE: 0.6450\n",
      "MAE: 0.4733\n",
      "R²: 0.9993\n",
      "\n",
      "测试集评价指标:\n",
      "MSE: 9.9246\n",
      "RMSE: 3.1503\n",
      "MAE: 2.5616\n",
      "R²: 0.9801\n",
      "\n",
      "特征重要性数值:\n",
      "[0.18035714 0.35714287 0.1625     0.15       0.15      ]\n",
      "\n",
      "特征重要性可视化:\n"
     ]
    },
    {
     "name": "stderr",
     "output_type": "stream",
     "text": [
      "\n"
     ]
    },
    {
     "data": {
      "image/png": "[encoded data removed]",
      "text/plain": [
       "<Figure size 1000x600 with 1 Axes>"
      ]
     },
     "metadata": {},
     "output_type": "display_data"
    }
   ],
   "source": [
    "import pandas as pd\n",
    "import numpy as np\n",
    "import matplotlib.pyplot as plt\n",
    "from sklearn.model_selection import train_test_split\n",
    "df5 = pd.read_excel('calculated_properties_S.xlsx')\n",
    "\n",
    "X = df5[['P11','PP','P17_1','P7','E11']]\n",
    "\n",
    "y = df5['EC']\n",
    "# Split training and test sets\n",
    "X_train, X_test, y_train, y_test = train_test_split(X, y, test_size=0.2, \n",
    "                                                    random_state=22)\n",
    "\n",
    "# Add new imports at the top of the file\n",
    "import matplotlib.pyplot as plt\n",
    "import optuna\n",
    "from sklearn.base import BaseEstimator, RegressorMixin\n",
    "from sklearn.model_selection import cross_val_score\n",
    "from xgboost import plot_importance\n",
    "import xgboost as xgb\n",
    "import numpy as np\n",
    "from xgb_wrapper import XGBWrapper\n",
    "\n",
    "\n",
    "X_train_xgb = X_train\n",
    "X_test_xgb = X_test\n",
    "\n",
    "# Optimization objective function\n",
    "# def objective(trial):\n",
    "#     params = {\n",
    "#         'n_estimators': trial.suggest_int('n_estimators', 50, 200),\n",
    "#         'learning_rate': trial.suggest_float('learning_rate', 1e-3, 0.2, log=True),\n",
    "#         'max_depth': trial.suggest_int('max_depth', 3, 6),\n",
    "#         'subsample': trial.suggest_float('subsample', 0.6, 1.0),\n",
    "#         'colsample_bytree': trial.suggest_float('colsample_bytree', 0.6, 1.0),\n",
    "#         'gamma': trial.suggest_float('gamma', 0, 0.5),\n",
    "#         'reg_alpha': trial.suggest_float('reg_alpha', 0, 1),\n",
    "#         'reg_lambda': trial.suggest_float('reg_lambda', 0, 1)\n",
    "#     }\n",
    "def objective(trial):  # MSE optimization\n",
    "    params = {\n",
    "        'n_estimators': trial.suggest_int('n_estimators', 300, 600),  # Increase number of trees\n",
    "        'learning_rate': trial.suggest_float('learning_rate', 0.005, 0.2, log=True),  # Lower learning rate minimum\n",
    "        'max_depth': trial.suggest_int('max_depth', 10, 20),  # Limit maximum depth\n",
    "        'subsample': trial.suggest_float('subsample', 0.6, 0.9),  # Lower sampling ratio\n",
    "        'colsample_bytree': trial.suggest_float('colsample_bytree', 0.6, 0.9),  # Lower feature sampling ratio\n",
    "        'gamma': trial.suggest_float('gamma', 0.1, 1.0),  # Increase gamma minimum\n",
    "        'reg_alpha': trial.suggest_float('reg_alpha', 0.5, 2.0),  # Enhance L1 regularization\n",
    "        'reg_lambda': trial.suggest_float('reg_lambda', 1.0, 3.0),  # Enhance L2 regularization\n",
    "        # 'min_child_weight': trial.suggest_int('min_child_weight', 5, 20)  # New parameter\n",
    "        \n",
    "    }\n",
    "    \n",
    "    model = XGBWrapper(**params)\n",
    "    \n",
    "    try:\n",
    "        score = -np.mean(cross_val_score(\n",
    "            model, \n",
    "            X_train, \n",
    "            y_train,\n",
    "            cv=5,\n",
    "            scoring='neg_mean_squared_error',\n",
    "            error_score='raise'  # Ensure real errors are displayed\n",
    "        ))\n",
    "        return score\n",
    "    except Exception as e:\n",
    "        print(f\"Parameters {params} caused failure, reason: {str(e)}\")\n",
    "        return np.inf  # Return maximum value to indicate failure\n",
    "\n",
    "# Execute optimization\n",
    "study = optuna.create_study(direction='minimize')\n",
    "study.optimize(objective, n_trials=50, show_progress_bar=True)\n",
    "\n",
    "# def objective(trial):\n",
    "#     params = {\n",
    "#         'n_estimators': trial.suggest_int('n_estimators', 300, 600),\n",
    "#         'learning_rate': trial.suggest_float('learning_rate', 0.005, 0.2, log=True),\n",
    "#         'max_depth': trial.suggest_int('max_depth', 10, 20),\n",
    "#         'subsample': trial.suggest_float('subsample', 0.6, 0.9),\n",
    "#         'colsample_bytree': trial.suggest_float('colsample_bytree', 0.6, 0.9),\n",
    "#         'gamma': trial.suggest_float('gamma', 0.1, 1.0),\n",
    "#         'reg_alpha': trial.suggest_float('reg_alpha', 0.5, 2.0),\n",
    "#         'reg_lambda': trial.suggest_float('reg_lambda', 1.0, 3.0),\n",
    "#     }\n",
    "    \n",
    "#     model = XGBWrapper(**params)\n",
    "    \n",
    "#     try:\n",
    "#         # Use R² as scoring metric (closer to 1 is better)\n",
    "#         r2_scores = cross_val_score(\n",
    "#             model, \n",
    "#             X_train, \n",
    "#             y_train,\n",
    "#             cv=5,\n",
    "#             scoring='r2'  # Key modification: use R²\n",
    "#         )\n",
    "#         score = np.mean(r2_scores)  # Take mean directly, no need for negative\n",
    "#         return score  # Return R² mean\n",
    "#     except Exception as e:\n",
    "#         print(f\"Parameters {params} caused failure, reason: {str(e)}\")\n",
    "#         return -np.inf  # Return minimum value to indicate failure (since Optuna maximizes objective)\n",
    "\n",
    "# # Key modification: change optimization direction to maximize (direction='maximize')\n",
    "# study = optuna.create_study(direction='maximize')\n",
    "# study.optimize(objective, n_trials=20, show_progress_bar=True)\n",
    "\n",
    "\n",
    "# Train final model\n",
    "best_model = XGBWrapper(**study.best_params)\n",
    "best_model.fit(X_train_xgb, y_train)\n",
    "\n",
    "# Evaluation code remains unchanged...\n",
    "    # Prediction and evaluation\n",
    "y_pred_train = best_model.predict(X_train_xgb)\n",
    "y_pred_test = best_model.predict(X_test_xgb)\n",
    "    \n",
    "    # Convert to lists\n",
    "y_pred_train_list = y_pred_train.tolist()\n",
    "y_pred_test_list = y_pred_test.tolist()\n",
    "\n",
    "from sklearn import metrics\n",
    "    # Calculate metrics\n",
    "print(\"Training set evaluation metrics:\")\n",
    "print(f\"MSE: {metrics.mean_squared_error(y_train, y_pred_train_list):.4f}\")\n",
    "print(f\"RMSE: {np.sqrt(metrics.mean_squared_error(y_train, y_pred_train_list)):.4f}\")\n",
    "print(f\"MAE: {metrics.mean_absolute_error(y_train, y_pred_train_list):.4f}\")\n",
    "print(f\"R²: {metrics.r2_score(y_train, y_pred_train_list):.4f}\")\n",
    "    \n",
    "print(\"\\nTest set evaluation metrics:\")\n",
    "print(f\"MSE: {metrics.mean_squared_error(y_test, y_pred_test_list):.4f}\")\n",
    "print(f\"RMSE: {np.sqrt(metrics.mean_squared_error(y_test, y_pred_test_list)):.4f}\")\n",
    "print(f\"MAE: {metrics.mean_absolute_error(y_test, y_pred_test_list):.4f}\")\n",
    "print(f\"R²: {metrics.r2_score(y_test, y_pred_test_list):.4f}\")\n",
    "\n",
    "# Add the following content after evaluation code -------------------------------------------------\n",
    "print(\"\\nFeature importance values:\")\n",
    "print(best_model.feature_importances_)\n",
    "\n",
    "print(\"\\nFeature importance visualization:\")\n",
    "best_model.plot_feature_importance(\n",
    "    feature_names=X_train.columns.tolist() if hasattr(X_train, 'columns') else None\n",
    ")"
   ]
  },
  {
   "cell_type": "code",
   "execution_count": null,
   "metadata": {},
   "outputs": [
    {
     "name": "stdout",
     "output_type": "stream",
     "text": [
      "训练集评价指标:\n",
      "均方误差 (MSE): 0.41603336965882476\n",
      "均方根误差 (RMSE): 0.6450064880749842\n",
      "平均绝对误差 (MAE): 0.47331374073028576\n",
      "拟合优度 (R-squared): 0.9992678361067667\n",
      "\n",
      "测试集评价指标:\n",
      "均方误差 (MSE): 9.924557444005126\n",
      "均方根误差 (RMSE): 3.150326561486146\n",
      "平均绝对误差 (MAE): 2.5616485945383705\n",
      "拟合优度 (R-squared): 0.9801307753470689\n"
     ]
    },
    {
     "data": {
      "text/plain": [
       "<Figure size 9600x7200 with 0 Axes>"
      ]
     },
     "metadata": {},
     "output_type": "display_data"
    },
    {
     "data": {
      "image/png": "[encoded data removed]",
      "text/plain": [
       "<Figure size 1000x1000 with 3 Axes>"
      ]
     },
     "metadata": {},
     "output_type": "display_data"
    }
   ],
   "source": [
    "import pandas as pd\n",
    "import numpy as np\n",
    "import matplotlib.pyplot as plt\n",
    "from sklearn.model_selection import train_test_split\n",
    "df5 = pd.read_excel('calculated_properties_S.xlsx')\n",
    "#X = df4[['PP','S3','S16','B11']]#adjusted\n",
    "#X = df2[['P7','E11','PP','O18']]#original paper\n",
    "#X = df4[['T1','T2','R2','S3','S16','B11']]\n",
    "# X = df4[['P17_1','P7','PP','E11']]#r2 = 0.9682\n",
    "# X = df5[['P11','P7','PP','E11']]\n",
    "df5['P11-17'] = df5['P11']*(df5['P17_1']*10)\n",
    "X = df5[['P11','PP','P17_1','P7','E11']]\n",
    "#X = df4[['P17_1','P7','PP','E11','O18']]\n",
    "y = df5['EC']\n",
    "# Split training and test sets\n",
    "X_train, X_test, y_train, y_test = train_test_split(X, y, test_size=0.2, \n",
    "                                                    random_state=22)\n",
    "\n",
    "# Prediction and evaluation\n",
    "y_pred_train = best_model.predict(X_train)\n",
    "y_pred_test = best_model.predict(X_test)\n",
    "    \n",
    "    # Convert to lists\n",
    "y_pred_train_list = y_pred_train.tolist()\n",
    "y_pred_test_list = y_pred_test.tolist()\n",
    "\n",
    "from sklearn import metrics\n",
    "    # Calculate metrics\n",
    "# Calculate training set metrics\n",
    "mse_train = metrics.mean_squared_error(y_train, y_pred_train_list)\n",
    "rmse_train = np.sqrt(mse_train)\n",
    "mae_train = metrics.mean_absolute_error(y_train, y_pred_train_list)\n",
    "r2_train = metrics.r2_score(y_train, y_pred_train_list)\n",
    "\n",
    "# Calculate test set metrics\n",
    "mse_test = metrics.mean_squared_error(y_test, y_pred_test_list)\n",
    "rmse_test = np.sqrt(mse_test)\n",
    "mae_test = metrics.mean_absolute_error(y_test, y_pred_test_list)\n",
    "r2_test = metrics.r2_score(y_test, y_pred_test_list)\n",
    "\n",
    "# Print results\n",
    "print(\"Training set evaluation metrics:\")\n",
    "print(\"Mean Squared Error (MSE):\", mse_train)\n",
    "print(\"Root Mean Squared Error (RMSE):\", rmse_train)\n",
    "print(\"Mean Absolute Error (MAE):\", mae_train)\n",
    "print(\"Coefficient of Determination (R-squared):\", r2_train)\n",
    "\n",
    "print(\"\\nTest set evaluation metrics:\")\n",
    "print(\"Mean Squared Error (MSE):\", mse_test)\n",
    "print(\"Root Mean Squared Error (RMSE):\", rmse_test)\n",
    "print(\"Mean Absolute Error (MAE):\", mae_test)\n",
    "print(\"Coefficient of Determination (R-squared):\", r2_test)\n",
    "\n",
    "import seaborn as sns\n",
    "from sklearn import metrics\n",
    "import matplotlib.pyplot as plt\n",
    "\n",
    "\n",
    "# Create a dataframe containing true and predicted values for training and test sets\n",
    "data_train = pd.DataFrame({\n",
    "    'True': y_train,\n",
    "    'Predicted': y_pred_train,\n",
    "    'Data Set': 'Train'\n",
    "})\n",
    "\n",
    "data_test = pd.DataFrame({\n",
    "    'True': y_test,\n",
    "    'Predicted': y_pred_test,\n",
    "    'Data Set': 'Test'\n",
    "})\n",
    "\n",
    "data = pd.concat([data_train, data_test])\n",
    "\n",
    "# Custom color palette\n",
    "palette = {'Train': '#b4d4e1', 'Test': '#f4ba8a'}\n",
    "\n",
    "# Create JointGrid object\n",
    "plt.figure(figsize=(8, 6), dpi=1200)\n",
    "g = sns.JointGrid(data=data, x=\"True\", y=\"Predicted\", hue=\"Data Set\", height=10, palette=palette)\n",
    "\n",
    "# Plot central scatter plot\n",
    "g.plot_joint(sns.scatterplot, alpha=0.5)\n",
    "# Add training set regression line\n",
    "sns.regplot(data=data_train, x=\"True\", y=\"Predicted\", scatter=False, ax=g.ax_joint, color='#b4d4e1', label='Train Regression Line')\n",
    "# Add test set regression line\n",
    "sns.regplot(data=data_test, x=\"True\", y=\"Predicted\", scatter=False, ax=g.ax_joint, color='#f4ba8a', label='Test Regression Line')\n",
    "# Add marginal histograms\n",
    "g.plot_marginals(sns.histplot, kde=False, element='bars', multiple='stack', alpha=0.5)\n",
    "\n",
    "# Add goodness of fit text in bottom right corner\n",
    "ax = g.ax_joint\n",
    "ax.text(0.95, 0.1, f'Train $R^2$ = {r2_train:.3f}', transform=ax.transAxes, fontsize=12,\n",
    "        verticalalignment='bottom', horizontalalignment='right', bbox=dict(boxstyle=\"round,pad=0.3\", edgecolor=\"black\", facecolor=\"white\"))\n",
    "ax.text(0.95, 0.05, f'Test $R^2$ = {r2_test:.3f}', transform=ax.transAxes, fontsize=12,\n",
    "        verticalalignment='bottom', horizontalalignment='right', bbox=dict(boxstyle=\"round,pad=0.3\", edgecolor=\"black\", facecolor=\"white\"))\n",
    "# Add model name text in top left corner\n",
    "ax.text(0.75, 0.99, 'Model = XGBoost\\n[P11, E11, P17_1, P7, PP]', \n",
    "        transform=ax.transAxes, fontsize=12,\n",
    "        verticalalignment='top', horizontalalignment='left', \n",
    "        bbox=dict(boxstyle=\"round,pad=0.3\", edgecolor=\"black\", facecolor=\"white\"))\n",
    "# Add center line\n",
    "ax.plot([data['True'].min(), data['True'].max()], [data['True'].min(), data['True'].max()], c=\"black\", alpha=0.5, linestyle='--', label='x=y')\n",
    "ax.legend()\n",
    "# plt.savefig('5.png', format='png', bbox_inches='tight')\n",
    "plt.show()"
   ]
  },
  {
   "cell_type": "code",
   "execution_count": null,
   "metadata": {},
   "outputs": [
    {
     "name": "stdout",
     "output_type": "stream",
     "text": [
      "真实值 vs 预测值矩阵:\n"
     ]
    },
    {
     "data": {
      "text/plain": [
       "array([[25.08      , 27.78550911],\n",
       "       [26.29      , 31.84418869],\n",
       "       [33.59      , 35.69371796],\n",
       "       [37.31      , 47.70462418],\n",
       "       [80.35      , 80.5770874 ],\n",
       "       [33.91      , 34.23317719],\n",
       "       [80.27      , 74.060112  ],\n",
       "       [78.2       , 72.5548172 ],\n",
       "       [40.9       , 42.30292511],\n",
       "       [47.4       , 49.480896  ],\n",
       "       [12.        , 17.61317444],\n",
       "       [46.9       , 43.61141968],\n",
       "       [80.24      , 80.48638153],\n",
       "       [77.8       , 78.79646301],\n",
       "       [12.        , 15.2623024 ],\n",
       "       [38.8       , 37.51404953],\n",
       "       [26.4       , 29.56885719],\n",
       "       [55.98      , 57.59156799],\n",
       "       [12.1       , 12.59388828],\n",
       "       [26.26      , 23.86260223],\n",
       "       [47.6       , 42.00285339],\n",
       "       [12.1       , 16.03110504],\n",
       "       [23.6       , 25.51675606],\n",
       "       [30.4       , 31.17852783],\n",
       "       [28.5       , 26.50441933],\n",
       "       [38.        , 41.48506927],\n",
       "       [87.        , 82.74154663],\n",
       "       [29.6       , 28.60080719],\n",
       "       [33.79      , 30.56308174],\n",
       "       [40.77      , 45.8856926 ],\n",
       "       [46.8       , 43.42046356],\n",
       "       [43.4       , 43.61141968],\n",
       "       [21.3       , 19.88777161],\n",
       "       [42.5       , 45.35031891],\n",
       "       [89.1       , 84.80841064],\n",
       "       [23.91      , 27.1781559 ]])"
      ]
     },
     "execution_count": 25,
     "metadata": {},
     "output_type": "execute_result"
    }
   ],
   "source": [
    "# Combine true values and predicted values into a matrix\n",
    "result_matrix = np.column_stack((y_test, y_pred_test))\n",
    "\n",
    "# Print the matrix\n",
    "print(\"True vs Predicted Values Matrix:\")\n",
    "result_matrix"
   ]
  },
  {
   "cell_type": "code",
   "execution_count": null,
   "metadata": {},
   "outputs": [
    {
     "name": "stderr",
     "output_type": "stream",
     "text": [
      "d:\\ProgramData\\Anaconda\\envs\\xgboost\\lib\\site-packages\\sklearn\\model_selection\\_split.py:700: UserWarning: The least populated class in y has only 2 members, which is less than n_splits=5.\n",
      "  warnings.warn(\n",
      "d:\\ProgramData\\Anaconda\\envs\\xgboost\\lib\\site-packages\\sklearn\\model_selection\\_split.py:700: UserWarning: The least populated class in y has only 2 members, which is less than n_splits=5.\n",
      "  warnings.warn(\n",
      "d:\\ProgramData\\Anaconda\\envs\\xgboost\\lib\\site-packages\\sklearn\\model_selection\\_split.py:700: UserWarning: The least populated class in y has only 2 members, which is less than n_splits=5.\n",
      "  warnings.warn(\n",
      "d:\\ProgramData\\Anaconda\\envs\\xgboost\\lib\\site-packages\\sklearn\\model_selection\\_split.py:700: UserWarning: The least populated class in y has only 2 members, which is less than n_splits=5.\n",
      "  warnings.warn(\n"
     ]
    },
    {
     "name": "stdout",
     "output_type": "stream",
     "text": [
      "五折交叉验证 R2 分数:\n",
      "[0.96237968 0.96640671 0.97454013 0.95545329 0.96684272]\n",
      "平均 R2: 0.9651 (±0.0062)\n",
      "\n",
      "五折交叉验证 MSE 分数:\n",
      "[21.09133635 17.7162897  15.28481884 25.86865779 16.94970837]\n",
      "平均 MSE: 19.3822 (±3.7544)\n",
      "\n",
      "五折交叉验证 RMSE 分数:\n",
      "[4.5925305  4.20907231 3.90958039 5.08612404 4.11700235]\n",
      "平均 RMSE: 4.3829 (±0.4156)\n",
      "\n",
      "五折交叉验证 MAE 分数:\n",
      "[2.97188495 3.05938645 2.89079507 3.34263729 2.94317848]\n",
      "平均 MAE: 3.0416 (±0.1601)\n",
      "\n",
      "训练集评价指标:\n",
      "MSE: 0.4160\n",
      "RMSE: 0.6450\n",
      "MAE: 0.4733\n",
      "R²: 0.9993\n",
      "\n",
      "测试集评价指标:\n",
      "MSE: 9.9246\n",
      "RMSE: 3.1503\n",
      "MAE: 2.5616\n",
      "R²: 0.9801\n"
     ]
    }
   ],
   "source": [
    "import matplotlib.pyplot as plt\n",
    "import optuna\n",
    "from sklearn.base import BaseEstimator, RegressorMixin\n",
    "from sklearn.model_selection import cross_val_score, StratifiedKFold\n",
    "from xgboost import plot_importance\n",
    "import xgboost as xgb\n",
    "import numpy as np\n",
    "from xgb_wrapper import XGBWrapper\n",
    "from sklearn.metrics import make_scorer, mean_squared_error, mean_absolute_error\n",
    "import joblib\n",
    "import pandas as pd\n",
    "from sklearn.model_selection import train_test_split\n",
    "# Load data\n",
    "df5 = pd.read_excel('calculated_properties_S.xlsx')\n",
    "\n",
    "# Feature selection\n",
    "X = df5[['P11', 'PP', 'P17_1', 'P7', 'E11']]\n",
    "y = df5['EC']\n",
    "\n",
    "\n",
    "# Define evaluation metrics\n",
    "scoring = {\n",
    "    'r2': 'r2',  # R²\n",
    "    'mse': make_scorer(mean_squared_error),  # Mean Squared Error\n",
    "    'rmse': make_scorer(lambda y_true, y_pred: np.sqrt(mean_squared_error(y_true, y_pred))),  # Root Mean Squared Error\n",
    "    'mae': make_scorer(mean_absolute_error)  # Mean Absolute Error\n",
    "}\n",
    "\n",
    "# Use Stratified K-Fold cross-validation\n",
    "# Bin the target variable to enable stratification\n",
    "y_binned = pd.cut(y, bins=10, labels=False)  # Divide target variable into 10 intervals\n",
    "skf = StratifiedKFold(n_splits=5, shuffle=True, random_state=24)\n",
    "\n",
    "# Perform stratified five-fold cross-validation\n",
    "cv_results = {}\n",
    "for metric_name, metric_scorer in scoring.items():\n",
    "    scores = cross_val_score(best_model, X, y, cv=skf.split(X, y_binned), scoring=metric_scorer)\n",
    "    cv_results[metric_name] = scores\n",
    "\n",
    "# Output cross-validation results\n",
    "for metric_name, scores in cv_results.items():\n",
    "    print(f\"Five-fold cross-validation {metric_name.upper()} scores:\")\n",
    "    print(scores)\n",
    "    print(f\"Average {metric_name.upper()}: {scores.mean():.4f} (±{scores.std():.4f})\\n\")\n",
    "\n",
    "# Split training and test sets\n",
    "X_train, X_test, y_train, y_test = train_test_split(X, y, test_size=0.2, random_state=22)\n",
    "\n",
    "# Prediction and evaluation\n",
    "y_pred_train = best_model.predict(X_train)\n",
    "y_pred_test = best_model.predict(X_test)\n",
    "\n",
    "# Convert to lists\n",
    "y_pred_train_list = y_pred_train.tolist()\n",
    "y_pred_test_list = y_pred_test.tolist()\n",
    "\n",
    "from sklearn import metrics\n",
    "\n",
    "# Calculate metrics\n",
    "print(\"Training set evaluation metrics:\")\n",
    "print(f\"MSE: {metrics.mean_squared_error(y_train, y_pred_train_list):.4f}\")\n",
    "print(f\"RMSE: {np.sqrt(metrics.mean_squared_error(y_train, y_pred_train_list)):.4f}\")\n",
    "print(f\"MAE: {metrics.mean_absolute_error(y_train, y_pred_train_list):.4f}\")\n",
    "print(f\"R²: {metrics.r2_score(y_train, y_pred_train_list):.4f}\")\n",
    "\n",
    "print(\"\\nTest set evaluation metrics:\")\n",
    "print(f\"MSE: {metrics.mean_squared_error(y_test, y_pred_test_list):.4f}\")\n",
    "print(f\"RMSE: {np.sqrt(metrics.mean_squared_error(y_test, y_pred_test_list)):.4f}\")\n",
    "print(f\"MAE: {metrics.mean_absolute_error(y_test, y_pred_test_list):.4f}\")\n",
    "print(f\"R²: {metrics.r2_score(y_test, y_pred_test_list):.4f}\")"
   ]
  }
 ],
 "metadata": {
  "kernelspec": {
   "display_name": "xgboost",
   "language": "python",
   "name": "python3"
  },
  "language_info": {
   "codemirror_mode": {
    "name": "ipython",
    "version": 3
   },
   "file_extension": ".py",
   "mimetype": "text/x-python",
   "name": "python",
   "nbconvert_exporter": "python",
   "pygments_lexer": "ipython3",
   "version": "3.9.21"
  }
 },
 "nbformat": 4,
 "nbformat_minor": 2
}
